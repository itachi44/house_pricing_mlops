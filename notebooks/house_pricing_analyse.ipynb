{
 "cells": [
  {
   "cell_type": "markdown",
   "id": "7383bc23",
   "metadata": {},
   "source": [
    "# Summary"
   ]
  },
  {
   "cell_type": "code",
   "execution_count": null,
   "id": "bea194dc",
   "metadata": {},
   "outputs": [],
   "source": [
    "#!pip -q install missingno optuna pendulum loguru ydata_profiling yellowbrick mlflow xgboost tensorflow pycaret boto3"
   ]
  },
  {
   "cell_type": "markdown",
   "id": "17767fa7",
   "metadata": {},
   "source": [
    "# Librairies"
   ]
  },
  {
   "cell_type": "code",
   "execution_count": null,
   "id": "146eb7ce",
   "metadata": {},
   "outputs": [],
   "source": [
    "# reload modules before executing user code.\n",
    "%reload_ext autoreload\n",
    "%autoreload 2\n",
    "\n",
    "import boto3\n",
    "import os\n",
    "import sys\n",
    "import matplotlib.pyplot as plt\n",
    "import missingno as msno\n",
    "import numpy as np\n",
    "import pendulum\n",
    "import pandas as pd\n",
    "import plotly.express as px\n",
    "import seaborn as sns\n",
    "from pathlib import Path\n",
    "\n",
    "\n",
    "from loguru import logger\n",
    "\n",
    "sys.path.append(str(Path.cwd().parent))\n",
    "from settings.params import (DATA_DIR_INPUT,\n",
    "                             DATA_DIR_OUTPUT,\n",
    "                             MODEL_PARAMS,\n",
    "                             REPORT_DIR,\n",
    "                             RUNS_DIR,\n",
    "                             TIMEZONE,\n",
    "                             MODEL_DIR\n",
    "                            )\n",
    "from src.make_dataset import load_data\n",
    "\n",
    "pd.set_option(\"display.max_columns\", None)"
   ]
  },
  {
   "cell_type": "markdown",
   "id": "c2caa50b",
   "metadata": {},
   "source": [
    "# Settings"
   ]
  },
  {
   "cell_type": "code",
   "execution_count": null,
   "id": "cfdadea4",
   "metadata": {},
   "outputs": [],
   "source": [
    "# time in UTC\n",
    "log_fmt = (\"<green>{time:YYYY-MM-DD HH:mm:ss.SSS!UTC}</green> | <level>{level: <8}</level> | \"\n",
    "           \"<cyan>{name}</cyan>:<cyan>{function}</cyan>:<cyan>{line}</cyan> - {message}\"\n",
    "          )\n",
    "log_config = {\n",
    "    \"handlers\": [\n",
    "        {\"sink\": sys.stderr, \"format\": log_fmt},\n",
    "    ],\n",
    "}\n",
    "logger.configure(**log_config)"
   ]
  },
  {
   "cell_type": "code",
   "execution_count": null,
   "id": "fe99d72e",
   "metadata": {},
   "outputs": [],
   "source": [
    "EXECUTION_DATE = pendulum.now(tz=TIMEZONE)\n",
    "\n",
    "logger.info(f\"Execution date: {EXECUTION_DATE}\")\n",
    "\n",
    "logger.info(f\"\\nData input directory : {DATA_DIR_INPUT}\\nData output directory: {DATA_DIR_OUTPUT}\")\n",
    "\n",
    "\n",
    "# model parameters\n",
    "FEATURES = MODEL_PARAMS[\"FEATURES\"]\n",
    "TARGET_NAME = MODEL_PARAMS[\"TARGET\"]"
   ]
  },
  {
   "cell_type": "code",
   "execution_count": null,
   "id": "7589de90",
   "metadata": {},
   "outputs": [],
   "source": []
  }
 ],
 "metadata": {
  "kernelspec": {
   "display_name": "Python 3 (ipykernel)",
   "language": "python",
   "name": "python3"
  },
  "language_info": {
   "codemirror_mode": {
    "name": "ipython",
    "version": 3
   },
   "file_extension": ".py",
   "mimetype": "text/x-python",
   "name": "python",
   "nbconvert_exporter": "python",
   "pygments_lexer": "ipython3",
   "version": "3.9.13"
  }
 },
 "nbformat": 4,
 "nbformat_minor": 5
}
