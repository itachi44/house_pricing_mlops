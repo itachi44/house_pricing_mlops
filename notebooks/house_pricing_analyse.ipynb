{
 "cells": [
  {
   "cell_type": "markdown",
   "id": "aa367193",
   "metadata": {},
   "source": [
    "# Summary"
   ]
  },
  {
   "cell_type": "code",
   "execution_count": null,
   "id": "f4c7fd8d",
   "metadata": {},
   "outputs": [],
   "source": [
    "#!pip -q install missingno optuna pendulum loguru ydata_profiling yellowbrick mlflow xgboost tensorflow pycaret boto3"
   ]
  },
  {
   "cell_type": "code",
   "execution_count": null,
   "id": "dca31a73",
   "metadata": {},
   "outputs": [],
   "source": [
    "pip show package-name | grep Version"
   ]
  },
  {
   "cell_type": "markdown",
   "id": "e21e0624",
   "metadata": {},
   "source": [
    "# Librairies"
   ]
  },
  {
   "cell_type": "code",
   "execution_count": null,
   "id": "11d12ec3",
   "metadata": {},
   "outputs": [],
   "source": [
    "# reload modules before executing user code.\n",
    "%reload_ext autoreload\n",
    "%autoreload 2\n",
    "\n",
    "import boto3\n",
    "import os\n",
    "import sys\n",
    "import matplotlib.pyplot as plt\n",
    "import missingno as msno\n",
    "import numpy as np\n",
    "import pendulum\n",
    "import pandas as pd\n",
    "import plotly.express as px\n",
    "import seaborn as sns\n",
    "\n",
    "\n",
    "from loguru import logger\n",
    "\n",
    "sys.path.append(str(Path.cwd().parent))\n",
    "from settings.params import (DATA_DIR_INPUT,\n",
    "                             DATA_DIR_OUTPUT,\n",
    "                             MODEL_PARAMS,\n",
    "                             REPORT_DIR,\n",
    "                             RUNS_DIR,\n",
    "                             TIMEZONE,\n",
    "                             MODEL_DIR\n",
    "                            )\n",
    "from src.make_dataset import load_data\n",
    "\n",
    "set_config(display=\"diagram\", print_changed_only=False)\n",
    "pd.set_option(\"display.max_columns\", None)"
   ]
  },
  {
   "cell_type": "markdown",
   "id": "1be1d934",
   "metadata": {},
   "source": [
    "# Settings"
   ]
  },
  {
   "cell_type": "code",
   "execution_count": null,
   "id": "c3841824",
   "metadata": {},
   "outputs": [],
   "source": [
    "# time in UTC\n",
    "log_fmt = (\"<green>{time:YYYY-MM-DD HH:mm:ss.SSS!UTC}</green> | <level>{level: <8}</level> | \"\n",
    "           \"<cyan>{name}</cyan>:<cyan>{function}</cyan>:<cyan>{line}</cyan> - {message}\"\n",
    "          )\n",
    "log_config = {\n",
    "    \"handlers\": [\n",
    "        {\"sink\": sys.stderr, \"format\": log_fmt},\n",
    "    ],\n",
    "}\n",
    "logger.configure(**log_config)"
   ]
  },
  {
   "cell_type": "code",
   "execution_count": null,
   "id": "b1bce123",
   "metadata": {},
   "outputs": [],
   "source": [
    "EXECUTION_DATE = pendulum.now(tz=TIMEZONE)\n",
    "\n",
    "logger.info(f\"Execution date: {EXECUTION_DATE}\")\n",
    "\n",
    "logger.info(f\"\\nData input directory : {DATA_DIR_INPUT}\\nData output directory: {DATA_DIR_OUTPUT}\")\n",
    "\n",
    "\n",
    "# model parameters\n",
    "FEATURES = MODEL_PARAMS[\"FEATURES\"]\n",
    "TARGET_NAME = MODEL_PARAMS[\"TARGET\"]"
   ]
  },
  {
   "cell_type": "code",
   "execution_count": null,
   "id": "157ebaae",
   "metadata": {},
   "outputs": [],
   "source": []
  }
 ],
 "metadata": {
  "kernelspec": {
   "display_name": "Python 3 (ipykernel)",
   "language": "python",
   "name": "python3"
  },
  "language_info": {
   "codemirror_mode": {
    "name": "ipython",
    "version": 3
   },
   "file_extension": ".py",
   "mimetype": "text/x-python",
   "name": "python",
   "nbconvert_exporter": "python",
   "pygments_lexer": "ipython3",
   "version": "3.9.13"
  }
 },
 "nbformat": 4,
 "nbformat_minor": 5
}
